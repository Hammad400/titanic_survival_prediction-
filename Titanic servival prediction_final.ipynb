{
 "cells": [
  {
   "cell_type": "code",
   "execution_count": 1,
   "id": "reported-advisory",
   "metadata": {},
   "outputs": [],
   "source": [
    "import pandas as pd\n",
    "from matplotlib import pyplot as plt\n",
    "import seaborn as sns"
   ]
  },
  {
   "cell_type": "code",
   "execution_count": 2,
   "id": "organic-tender",
   "metadata": {},
   "outputs": [],
   "source": [
    "df=pd.read_csv(r'E:\\step to ML\\DataSets\\titanic\\train2.csv')\n",
    "titanic_test=pd.read_csv(r'E:\\step to ML\\DataSets\\titanic\\test2.csv')"
   ]
  },
  {
   "cell_type": "code",
   "execution_count": 3,
   "id": "assumed-romania",
   "metadata": {},
   "outputs": [
    {
     "data": {
      "text/plain": [
       "(891, 12)"
      ]
     },
     "execution_count": 3,
     "metadata": {},
     "output_type": "execute_result"
    }
   ],
   "source": [
    "df.shape"
   ]
  },
  {
   "cell_type": "code",
   "execution_count": 4,
   "id": "numeric-traveler",
   "metadata": {},
   "outputs": [
    {
     "data": {
      "text/plain": [
       "PassengerId      0\n",
       "Survived         0\n",
       "Pclass           0\n",
       "Name             0\n",
       "Sex              0\n",
       "Age            177\n",
       "SibSp            0\n",
       "Parch            0\n",
       "Ticket           0\n",
       "Fare             0\n",
       "Cabin          687\n",
       "Embarked         2\n",
       "dtype: int64"
      ]
     },
     "execution_count": 4,
     "metadata": {},
     "output_type": "execute_result"
    }
   ],
   "source": [
    "df.isnull().sum()"
   ]
  },
  {
   "cell_type": "code",
   "execution_count": 5,
   "id": "presidential-vegetarian",
   "metadata": {},
   "outputs": [
    {
     "data": {
      "text/plain": [
       "77.10437710437711"
      ]
     },
     "execution_count": 5,
     "metadata": {},
     "output_type": "execute_result"
    }
   ],
   "source": [
    "null_percentage_cabin=df['Cabin'].isnull().sum()/len(df)*100\n",
    "null_percentage_cabin"
   ]
  },
  {
   "cell_type": "code",
   "execution_count": 6,
   "id": "understanding-consolidation",
   "metadata": {},
   "outputs": [],
   "source": [
    "df=df.drop(labels=\"Cabin\",axis=1)"
   ]
  },
  {
   "cell_type": "code",
   "execution_count": 7,
   "id": "introductory-debut",
   "metadata": {},
   "outputs": [
    {
     "data": {
      "text/plain": [
       "179"
      ]
     },
     "execution_count": 7,
     "metadata": {},
     "output_type": "execute_result"
    }
   ],
   "source": [
    "# df=df.dropna()\n",
    "891-712"
   ]
  },
  {
   "cell_type": "code",
   "execution_count": 8,
   "id": "special-america",
   "metadata": {},
   "outputs": [
    {
     "data": {
      "text/plain": [
       "28.0"
      ]
     },
     "execution_count": 8,
     "metadata": {},
     "output_type": "execute_result"
    }
   ],
   "source": [
    "df['Age'].median()"
   ]
  },
  {
   "cell_type": "code",
   "execution_count": 9,
   "id": "marked-third",
   "metadata": {},
   "outputs": [
    {
     "data": {
      "text/plain": [
       "0      22.0\n",
       "1      38.0\n",
       "2      26.0\n",
       "3      35.0\n",
       "4      35.0\n",
       "       ... \n",
       "886    27.0\n",
       "887    19.0\n",
       "888    28.0\n",
       "889    26.0\n",
       "890    32.0\n",
       "Name: Age, Length: 891, dtype: float64"
      ]
     },
     "execution_count": 9,
     "metadata": {},
     "output_type": "execute_result"
    }
   ],
   "source": [
    "df['Age']=df['Age'].fillna(df['Age'].median())\n",
    "df['Age']"
   ]
  },
  {
   "cell_type": "code",
   "execution_count": 10,
   "id": "neutral-ferry",
   "metadata": {},
   "outputs": [
    {
     "data": {
      "text/plain": [
       "PassengerId    0\n",
       "Survived       0\n",
       "Pclass         0\n",
       "Name           0\n",
       "Sex            0\n",
       "Age            0\n",
       "SibSp          0\n",
       "Parch          0\n",
       "Ticket         0\n",
       "Fare           0\n",
       "Embarked       2\n",
       "dtype: int64"
      ]
     },
     "execution_count": 10,
     "metadata": {},
     "output_type": "execute_result"
    }
   ],
   "source": [
    "df.isnull().sum()"
   ]
  },
  {
   "cell_type": "code",
   "execution_count": 11,
   "id": "ranging-mediterranean",
   "metadata": {},
   "outputs": [
    {
     "data": {
      "text/plain": [
       "['PassengerId', 'Survived', 'Pclass', 'Age', 'SibSp', 'Parch', 'Fare']"
      ]
     },
     "execution_count": 11,
     "metadata": {},
     "output_type": "execute_result"
    }
   ],
   "source": [
    "numerical_features = [feature for feature in df.columns if df[feature].dtypes != 'O']\n",
    "numerical_features"
   ]
  },
  {
   "cell_type": "code",
   "execution_count": 12,
   "id": "uniform-occurrence",
   "metadata": {},
   "outputs": [
    {
     "data": {
      "text/plain": [
       "7"
      ]
     },
     "execution_count": 12,
     "metadata": {},
     "output_type": "execute_result"
    }
   ],
   "source": [
    "len(numerical_features)"
   ]
  },
  {
   "cell_type": "code",
   "execution_count": 13,
   "id": "removable-nepal",
   "metadata": {},
   "outputs": [
    {
     "data": {
      "text/plain": [
       "['Name', 'Sex', 'Ticket', 'Embarked']"
      ]
     },
     "execution_count": 13,
     "metadata": {},
     "output_type": "execute_result"
    }
   ],
   "source": [
    "catagarical_features = [feature for feature in df.columns if df[feature].dtypes == 'O']\n",
    "catagarical_features"
   ]
  },
  {
   "cell_type": "code",
   "execution_count": 14,
   "id": "brilliant-python",
   "metadata": {},
   "outputs": [
    {
     "data": {
      "text/plain": [
       "['Sex']"
      ]
     },
     "execution_count": 14,
     "metadata": {},
     "output_type": "execute_result"
    }
   ],
   "source": [
    "catg_2_features=[]\n",
    "for feature in catagarical_features:\n",
    "    if len(df[feature].unique())==2:\n",
    "        catg_2_features.append(feature)\n",
    "catg_2_features"
   ]
  },
  {
   "cell_type": "code",
   "execution_count": 15,
   "id": "searching-security",
   "metadata": {},
   "outputs": [],
   "source": [
    "df['Sex']=(df['Sex']=='male').astype(int)"
   ]
  },
  {
   "cell_type": "code",
   "execution_count": 16,
   "id": "major-solomon",
   "metadata": {},
   "outputs": [
    {
     "data": {
      "text/plain": [
       "dtype('int32')"
      ]
     },
     "execution_count": 16,
     "metadata": {},
     "output_type": "execute_result"
    }
   ],
   "source": [
    "df['Sex'].dtype"
   ]
  },
  {
   "cell_type": "code",
   "execution_count": 17,
   "id": "pleased-projection",
   "metadata": {},
   "outputs": [],
   "source": [
    "#df['Embarked']=(df['Embarked']=='C').astype(int)"
   ]
  },
  {
   "cell_type": "code",
   "execution_count": 18,
   "id": "greater-scout",
   "metadata": {},
   "outputs": [
    {
     "data": {
      "text/plain": [
       "['PassengerId', 'Survived', 'Pclass', 'Sex', 'Age', 'SibSp', 'Parch', 'Fare']"
      ]
     },
     "execution_count": 18,
     "metadata": {},
     "output_type": "execute_result"
    }
   ],
   "source": [
    "numerical_features2 = [feature for feature in df.columns if df[feature].dtypes != 'O']\n",
    "numerical_features2"
   ]
  },
  {
   "cell_type": "code",
   "execution_count": 19,
   "id": "exotic-variance",
   "metadata": {},
   "outputs": [
    {
     "data": {
      "text/plain": [
       "8"
      ]
     },
     "execution_count": 19,
     "metadata": {},
     "output_type": "execute_result"
    }
   ],
   "source": [
    "len(numerical_features2)"
   ]
  },
  {
   "cell_type": "code",
   "execution_count": 20,
   "id": "dried-breakfast",
   "metadata": {},
   "outputs": [
    {
     "name": "stderr",
     "output_type": "stream",
     "text": [
      "c:\\users\\sk\\appdata\\local\\programs\\python\\python39\\lib\\site-packages\\seaborn\\distributions.py:2557: FutureWarning: `distplot` is a deprecated function and will be removed in a future version. Please adapt your code to use either `displot` (a figure-level function with similar flexibility) or `histplot` (an axes-level function for histograms).\n",
      "  warnings.warn(msg, FutureWarning)\n"
     ]
    },
    {
     "data": {
      "image/png": "[encoded data removed]",
      "text/plain": [
       "<Figure size 432x288 with 1 Axes>"
      ]
     },
     "metadata": {
      "needs_background": "light"
     },
     "output_type": "display_data"
    },
    {
     "name": "stderr",
     "output_type": "stream",
     "text": [
      "c:\\users\\sk\\appdata\\local\\programs\\python\\python39\\lib\\site-packages\\seaborn\\distributions.py:2557: FutureWarning: `distplot` is a deprecated function and will be removed in a future version. Please adapt your code to use either `displot` (a figure-level function with similar flexibility) or `histplot` (an axes-level function for histograms).\n",
      "  warnings.warn(msg, FutureWarning)\n"
     ]
    },
    {
     "data": {
      "image/png": "[encoded data removed]",
      "text/plain": [
       "<Figure size 432x288 with 1 Axes>"
      ]
     },
     "metadata": {
      "needs_background": "light"
     },
     "output_type": "display_data"
    },
    {
     "name": "stderr",
     "output_type": "stream",
     "text": [
      "c:\\users\\sk\\appdata\\local\\programs\\python\\python39\\lib\\site-packages\\seaborn\\distributions.py:2557: FutureWarning: `distplot` is a deprecated function and will be removed in a future version. Please adapt your code to use either `displot` (a figure-level function with similar flexibility) or `histplot` (an axes-level function for histograms).\n",
      "  warnings.warn(msg, FutureWarning)\n"
     ]
    },
    {
     "data": {
      "image/png": "[encoded data removed]",
      "text/plain": [
       "<Figure size 432x288 with 1 Axes>"
      ]
     },
     "metadata": {
      "needs_background": "light"
     },
     "output_type": "display_data"
    },
    {
     "name": "stderr",
     "output_type": "stream",
     "text": [
      "c:\\users\\sk\\appdata\\local\\programs\\python\\python39\\lib\\site-packages\\seaborn\\distributions.py:2557: FutureWarning: `distplot` is a deprecated function and will be removed in a future version. Please adapt your code to use either `displot` (a figure-level function with similar flexibility) or `histplot` (an axes-level function for histograms).\n",
      "  warnings.warn(msg, FutureWarning)\n"
     ]
    },
    {
     "data": {
      "image/png": "[encoded data removed]",
      "text/plain": [
       "<Figure size 432x288 with 1 Axes>"
      ]
     },
     "metadata": {
      "needs_background": "light"
     },
     "output_type": "display_data"
    },
    {
     "name": "stderr",
     "output_type": "stream",
     "text": [
      "c:\\users\\sk\\appdata\\local\\programs\\python\\python39\\lib\\site-packages\\seaborn\\distributions.py:2557: FutureWarning: `distplot` is a deprecated function and will be removed in a future version. Please adapt your code to use either `displot` (a figure-level function with similar flexibility) or `histplot` (an axes-level function for histograms).\n",
      "  warnings.warn(msg, FutureWarning)\n"
     ]
    },
    {
     "data": {
      "image/png": "[encoded data removed]",
      "text/plain": [
       "<Figure size 432x288 with 1 Axes>"
      ]
     },
     "metadata": {
      "needs_background": "light"
     },
     "output_type": "display_data"
    },
    {
     "name": "stderr",
     "output_type": "stream",
     "text": [
      "c:\\users\\sk\\appdata\\local\\programs\\python\\python39\\lib\\site-packages\\seaborn\\distributions.py:2557: FutureWarning: `distplot` is a deprecated function and will be removed in a future version. Please adapt your code to use either `displot` (a figure-level function with similar flexibility) or `histplot` (an axes-level function for histograms).\n",
      "  warnings.warn(msg, FutureWarning)\n"
     ]
    },
    {
     "data": {
      "image/png": "[encoded data removed]",
      "text/plain": [
       "<Figure size 432x288 with 1 Axes>"
      ]
     },
     "metadata": {
      "needs_background": "light"
     },
     "output_type": "display_data"
    }
   ],
   "source": [
    "for feature in numerical_features2[2:]:\n",
    "    sns.distplot(df[feature])\n",
    "    plt.show()    "
   ]
  },
  {
   "cell_type": "markdown",
   "id": "direct-wholesale",
   "metadata": {},
   "source": [
    "**********************************"
   ]
  },
  {
   "cell_type": "code",
   "execution_count": 21,
   "id": "original-guitar",
   "metadata": {},
   "outputs": [],
   "source": [
    "c_matrix=df.corr()"
   ]
  },
  {
   "cell_type": "code",
   "execution_count": 22,
   "id": "prostate-begin",
   "metadata": {},
   "outputs": [
    {
     "data": {
      "text/plain": [
       "Survived       1.000000\n",
       "Fare           0.257307\n",
       "Parch          0.081629\n",
       "PassengerId   -0.005007\n",
       "SibSp         -0.035322\n",
       "Age           -0.064910\n",
       "Pclass        -0.338481\n",
       "Sex           -0.543351\n",
       "Name: Survived, dtype: float64"
      ]
     },
     "execution_count": 22,
     "metadata": {},
     "output_type": "execute_result"
    }
   ],
   "source": [
    "c_matrix['Survived'].sort_values(ascending=False)"
   ]
  },
  {
   "cell_type": "code",
   "execution_count": 23,
   "id": "black-medline",
   "metadata": {},
   "outputs": [
    {
     "data": {
      "text/plain": [
       "['Survived', 'Fare', 'Parch', 'Age', 'Pclass', 'Sex']"
      ]
     },
     "execution_count": 23,
     "metadata": {},
     "output_type": "execute_result"
    }
   ],
   "source": [
    "strong_relation_features=[]\n",
    "for feature in c_matrix['Survived'].sort_values(ascending=False).keys():\n",
    "    if c_matrix['Survived'][feature]>=0.04 or c_matrix['Survived'][feature]<=-0.04:\n",
    "        strong_relation_features.append(feature)\n",
    "strong_relation_features"
   ]
  },
  {
   "cell_type": "code",
   "execution_count": 24,
   "id": "functional-flesh",
   "metadata": {},
   "outputs": [],
   "source": [
    "strong_relation_features.remove('Survived')"
   ]
  },
  {
   "cell_type": "code",
   "execution_count": 25,
   "id": "proprietary-trinity",
   "metadata": {},
   "outputs": [
    {
     "data": {
      "image/png": "[encoded data removed]",
      "text/plain": [
       "<Figure size 360x360 with 1 Axes>"
      ]
     },
     "metadata": {
      "needs_background": "light"
     },
     "output_type": "display_data"
    },
    {
     "data": {
      "image/png": "[encoded data removed]",
      "text/plain": [
       "<Figure size 360x360 with 1 Axes>"
      ]
     },
     "metadata": {
      "needs_background": "light"
     },
     "output_type": "display_data"
    },
    {
     "data": {
      "image/png": "[encoded data removed]",
      "text/plain": [
       "<Figure size 360x360 with 1 Axes>"
      ]
     },
     "metadata": {
      "needs_background": "light"
     },
     "output_type": "display_data"
    },
    {
     "data": {
      "image/png": "[encoded data removed]",
      "text/plain": [
       "<Figure size 360x360 with 1 Axes>"
      ]
     },
     "metadata": {
      "needs_background": "light"
     },
     "output_type": "display_data"
    },
    {
     "data": {
      "image/png": "[encoded data removed]",
      "text/plain": [
       "<Figure size 360x360 with 1 Axes>"
      ]
     },
     "metadata": {
      "needs_background": "light"
     },
     "output_type": "display_data"
    }
   ],
   "source": [
    "for feature in strong_relation_features:\n",
    "    sns.relplot(x=feature,y=\"Survived\",data=df,kind='line')"
   ]
  },
  {
   "cell_type": "code",
   "execution_count": 26,
   "id": "solar-auditor",
   "metadata": {},
   "outputs": [
    {
     "data": {
      "text/plain": [
       "['Survived', 'Pclass', 'Sex', 'Age', 'SibSp', 'Parch', 'Fare']"
      ]
     },
     "execution_count": 26,
     "metadata": {},
     "output_type": "execute_result"
    }
   ],
   "source": [
    "numerical_features2.remove('PassengerId')\n",
    "numerical_features2"
   ]
  },
  {
   "cell_type": "code",
   "execution_count": 27,
   "id": "equivalent-correlation",
   "metadata": {},
   "outputs": [
    {
     "data": {
      "text/plain": [
       "['Fare', 'Parch', 'Age', 'Pclass', 'Sex']"
      ]
     },
     "execution_count": 27,
     "metadata": {},
     "output_type": "execute_result"
    }
   ],
   "source": [
    "strong_relation_features"
   ]
  },
  {
   "cell_type": "code",
   "execution_count": 28,
   "id": "legislative-bearing",
   "metadata": {},
   "outputs": [
    {
     "data": {
      "text/plain": [
       "(891, 6)"
      ]
     },
     "execution_count": 28,
     "metadata": {},
     "output_type": "execute_result"
    }
   ],
   "source": [
    "X=df[['Pclass', 'Sex', 'Age', 'SibSp', 'Parch', 'Fare']]\n",
    "# X=df[strong_relation_features]\n",
    "X.shape"
   ]
  },
  {
   "cell_type": "code",
   "execution_count": 29,
   "id": "living-equipment",
   "metadata": {},
   "outputs": [
    {
     "data": {
      "text/plain": [
       "(891,)"
      ]
     },
     "execution_count": 29,
     "metadata": {},
     "output_type": "execute_result"
    }
   ],
   "source": [
    "y=df['Survived']\n",
    "y.shape"
   ]
  },
  {
   "cell_type": "code",
   "execution_count": 30,
   "id": "technological-waters",
   "metadata": {},
   "outputs": [
    {
     "data": {
      "text/plain": [
       "ExtraTreesClassifier()"
      ]
     },
     "execution_count": 30,
     "metadata": {},
     "output_type": "execute_result"
    }
   ],
   "source": [
    "from sklearn.ensemble import ExtraTreesClassifier\n",
    "selection = ExtraTreesClassifier()\n",
    "selection.fit(X, y)"
   ]
  },
  {
   "cell_type": "code",
   "execution_count": 31,
   "id": "terminal-castle",
   "metadata": {},
   "outputs": [
    {
     "data": {
      "text/plain": [
       "array([0.10577332, 0.29512525, 0.23880275, 0.04540268, 0.03802018,\n",
       "       0.27687581])"
      ]
     },
     "execution_count": 31,
     "metadata": {},
     "output_type": "execute_result"
    }
   ],
   "source": [
    "selection.feature_importances_"
   ]
  },
  {
   "cell_type": "code",
   "execution_count": 32,
   "id": "outstanding-majority",
   "metadata": {},
   "outputs": [
    {
     "data": {
      "image/png": "[encoded data removed]",
      "text/plain": [
       "<Figure size 864x576 with 1 Axes>"
      ]
     },
     "metadata": {
      "needs_background": "light"
     },
     "output_type": "display_data"
    }
   ],
   "source": [
    "#plot graph of feature importances for better visualization\n",
    "\n",
    "plt.figure(figsize = (12,8))\n",
    "feat_importances = pd.Series(selection.feature_importances_, index=X.columns)\n",
    "feat_importances.nlargest(6).plot(kind='barh')\n",
    "plt.show()"
   ]
  },
  {
   "cell_type": "code",
   "execution_count": 33,
   "id": "textile-determination",
   "metadata": {},
   "outputs": [
    {
     "data": {
      "text/plain": [
       "(891, 4)"
      ]
     },
     "execution_count": 33,
     "metadata": {},
     "output_type": "execute_result"
    }
   ],
   "source": [
    "X=df[['Age','Sex','Fare','Pclass']]\n",
    "X.shape"
   ]
  },
  {
   "cell_type": "code",
   "execution_count": 34,
   "id": "cutting-zoning",
   "metadata": {},
   "outputs": [
    {
     "data": {
      "text/html": [
       "<div>\n",
       "<style scoped>\n",
       "    .dataframe tbody tr th:only-of-type {\n",
       "        vertical-align: middle;\n",
       "    }\n",
       "\n",
       "    .dataframe tbody tr th {\n",
       "        vertical-align: top;\n",
       "    }\n",
       "\n",
       "    .dataframe thead th {\n",
       "        text-align: right;\n",
       "    }\n",
       "</style>\n",
       "<table border=\"1\" class=\"dataframe\">\n",
       "  <thead>\n",
       "    <tr style=\"text-align: right;\">\n",
       "      <th></th>\n",
       "      <th>DecisionTreeClassifier()</th>\n",
       "      <th>LogisticRegression(max_iter=1000)</th>\n",
       "      <th>RandomForestClassifier()</th>\n",
       "      <th>SVC()</th>\n",
       "    </tr>\n",
       "  </thead>\n",
       "  <tbody>\n",
       "    <tr>\n",
       "      <th>0</th>\n",
       "      <td>0.788989</td>\n",
       "      <td>0.787878</td>\n",
       "      <td>0.816005</td>\n",
       "      <td>0.671261</td>\n",
       "    </tr>\n",
       "  </tbody>\n",
       "</table>\n",
       "</div>"
      ],
      "text/plain": [
       "   DecisionTreeClassifier()  LogisticRegression(max_iter=1000)  \\\n",
       "0                  0.788989                           0.787878   \n",
       "\n",
       "   RandomForestClassifier()     SVC()  \n",
       "0                  0.816005  0.671261  "
      ]
     },
     "execution_count": 34,
     "metadata": {},
     "output_type": "execute_result"
    }
   ],
   "source": [
    "from sklearn.model_selection import cross_val_score\n",
    "from sklearn.tree import DecisionTreeClassifier\n",
    "from sklearn.linear_model import LogisticRegression\n",
    "from sklearn.ensemble import RandomForestClassifier\n",
    "from sklearn.svm import SVC\n",
    "model_scoring={}\n",
    "def all_model_scores(model,X,y):\n",
    "    scores=cross_val_score(model,X,y,cv=10)\n",
    "    mean_score=scores.mean()\n",
    "    model_scoring.update({model:mean_score})\n",
    "    return model_scoring\n",
    "Model_list=[DecisionTreeClassifier(),LogisticRegression(solver='lbfgs', max_iter=1000),RandomForestClassifier(),SVC()]\n",
    "for model in Model_list:\n",
    "    score_dict=all_model_scores(model,X,y)\n",
    "df_Models_scores=pd.DataFrame(score_dict,index=[0])\n",
    "df_Models_scores"
   ]
  },
  {
   "cell_type": "code",
   "execution_count": 35,
   "id": "innovative-pension",
   "metadata": {},
   "outputs": [],
   "source": [
    "from sklearn.model_selection import train_test_split"
   ]
  },
  {
   "cell_type": "code",
   "execution_count": 36,
   "id": "tested-carolina",
   "metadata": {},
   "outputs": [],
   "source": [
    "X_train, X_test, y_train, y_test = train_test_split(X,y,train_size=0.8,random_state=42)"
   ]
  },
  {
   "cell_type": "code",
   "execution_count": 37,
   "id": "photographic-column",
   "metadata": {},
   "outputs": [
    {
     "data": {
      "text/plain": [
       "((712, 4), (179, 4), (712,), (179,))"
      ]
     },
     "execution_count": 37,
     "metadata": {},
     "output_type": "execute_result"
    }
   ],
   "source": [
    "X_train.shape, X_test.shape, y_train.shape, y_test.shape"
   ]
  },
  {
   "cell_type": "code",
   "execution_count": 38,
   "id": "former-being",
   "metadata": {},
   "outputs": [],
   "source": [
    "# fare and Embarked feature decrease score from 81 to 72"
   ]
  },
  {
   "cell_type": "code",
   "execution_count": 39,
   "id": "material-pontiac",
   "metadata": {},
   "outputs": [],
   "source": [
    "from sklearn.linear_model import LogisticRegression\n",
    "model = LogisticRegression(solver='lbfgs', max_iter=1000)"
   ]
  },
  {
   "cell_type": "code",
   "execution_count": 40,
   "id": "middle-imaging",
   "metadata": {},
   "outputs": [],
   "source": [
    "# from sklearn.ensemble import RandomForestClassifier\n",
    "# model = RandomForestClassifier()"
   ]
  },
  {
   "cell_type": "code",
   "execution_count": 41,
   "id": "variable-pathology",
   "metadata": {},
   "outputs": [
    {
     "data": {
      "text/plain": [
       "LogisticRegression(max_iter=1000)"
      ]
     },
     "execution_count": 41,
     "metadata": {},
     "output_type": "execute_result"
    }
   ],
   "source": [
    "model.fit(X_train, y_train)"
   ]
  },
  {
   "cell_type": "code",
   "execution_count": 42,
   "id": "mineral-benjamin",
   "metadata": {},
   "outputs": [],
   "source": [
    "y_predicted = model.predict(X_test)"
   ]
  },
  {
   "cell_type": "code",
   "execution_count": 43,
   "id": "iraqi-reunion",
   "metadata": {},
   "outputs": [
    {
     "data": {
      "text/plain": [
       "array([0, 0, 0, 1, 1, 1, 1, 0, 1, 1, 0, 0, 1, 0, 0, 1, 0, 1, 0, 0, 0, 0,\n",
       "       1, 0, 0, 0, 0, 0, 0, 1, 0, 1, 0, 1, 0, 0, 0, 1, 1, 0, 0, 0, 0, 0,\n",
       "       0, 0, 0, 0, 0, 0, 1, 1, 0, 1, 0, 1, 0, 1, 1, 1, 0, 1, 1, 0, 0, 1,\n",
       "       0, 0, 0, 1, 1, 1, 0, 1, 0, 0, 1, 1, 1, 0, 0, 1, 1, 0, 0, 0, 1, 1,\n",
       "       0, 0, 0, 1, 0, 0, 0, 0, 0, 0, 1, 0, 0, 0, 1, 0, 0, 0, 1, 0, 0, 0,\n",
       "       1, 0, 1, 0, 1, 0, 0, 0, 1, 0, 0, 1, 1, 0, 0, 0, 1, 0, 1, 0, 1, 0,\n",
       "       0, 1, 0, 1, 1, 0, 0, 1, 0, 1, 0, 0, 1, 1, 0, 0, 1, 0, 0, 0, 0, 1,\n",
       "       0, 0, 0, 1, 1, 1, 0, 0, 0, 1, 0, 0, 0, 1, 0, 0, 1, 1, 0, 1, 0, 0,\n",
       "       1, 1, 1], dtype=int64)"
      ]
     },
     "execution_count": 43,
     "metadata": {},
     "output_type": "execute_result"
    }
   ],
   "source": [
    "y_predicted"
   ]
  },
  {
   "cell_type": "code",
   "execution_count": 44,
   "id": "second-briefing",
   "metadata": {},
   "outputs": [
    {
     "data": {
      "text/plain": [
       "array([[0.89792764, 0.10207236],\n",
       "       [0.77888527, 0.22111473],\n",
       "       [0.87886886, 0.12113114],\n",
       "       [0.13445799, 0.86554201],\n",
       "       [0.34553056, 0.65446944],\n",
       "       [0.08245914, 0.91754086],\n",
       "       [0.42988157, 0.57011843],\n",
       "       [0.86636522, 0.13363478],\n",
       "       [0.35794633, 0.64205367],\n",
       "       [0.074236  , 0.925764  ],\n",
       "       [0.58987654, 0.41012346],\n",
       "       [0.92992404, 0.07007596],\n",
       "       [0.42475445, 0.57524555],\n",
       "       [0.90328053, 0.09671947],\n",
       "       [0.79931843, 0.20068157],\n",
       "       [0.06821928, 0.93178072],\n",
       "       [0.62008638, 0.37991362],\n",
       "       [0.42985862, 0.57014138],\n",
       "       [0.76052758, 0.23947242],\n",
       "       [0.64939584, 0.35060416],\n",
       "       [0.88918547, 0.11081453],\n",
       "       [0.57916922, 0.42083078],\n",
       "       [0.37544593, 0.62455407],\n",
       "       [0.8787051 , 0.1212949 ],\n",
       "       [0.89800845, 0.10199155],\n",
       "       [0.84638322, 0.15361678],\n",
       "       [0.61513676, 0.38486324],\n",
       "       [0.77837568, 0.22162432],\n",
       "       [0.82571157, 0.17428843],\n",
       "       [0.44844168, 0.55155832],\n",
       "       [0.87616817, 0.12383183],\n",
       "       [0.39333583, 0.60666417],\n",
       "       [0.54078019, 0.45921981],\n",
       "       [0.42993954, 0.57006046],\n",
       "       [0.87339196, 0.12660804],\n",
       "       [0.89568567, 0.10431433],\n",
       "       [0.53936898, 0.46063102],\n",
       "       [0.42988157, 0.57011843],\n",
       "       [0.09516363, 0.90483637],\n",
       "       [0.89872154, 0.10127846],\n",
       "       [0.71769382, 0.28230618],\n",
       "       [0.90107866, 0.09892134],\n",
       "       [0.89870494, 0.10129506],\n",
       "       [0.89873723, 0.10126277],\n",
       "       [0.5343225 , 0.4656775 ],\n",
       "       [0.86410729, 0.13589271],\n",
       "       [0.87613449, 0.12386551],\n",
       "       [0.88652364, 0.11347636],\n",
       "       [0.88928399, 0.11071601],\n",
       "       [0.69438782, 0.30561218],\n",
       "       [0.29427937, 0.70572063],\n",
       "       [0.14523366, 0.85476634],\n",
       "       [0.92139094, 0.07860906],\n",
       "       [0.40856658, 0.59143342],\n",
       "       [0.9574787 , 0.0425213 ],\n",
       "       [0.06839283, 0.93160717],\n",
       "       [0.78318847, 0.21681153],\n",
       "       [0.118684  , 0.881316  ],\n",
       "       [0.24634722, 0.75365278],\n",
       "       [0.375439  , 0.624561  ],\n",
       "       [0.88154075, 0.11845925],\n",
       "       [0.15842429, 0.84157571],\n",
       "       [0.21412416, 0.78587584],\n",
       "       [0.54218094, 0.45781906],\n",
       "       [0.89873723, 0.10126277],\n",
       "       [0.36535659, 0.63464341],\n",
       "       [0.71769382, 0.28230618],\n",
       "       [0.90099122, 0.09900878],\n",
       "       [0.87069257, 0.12930743],\n",
       "       [0.14748433, 0.85251567],\n",
       "       [0.20577744, 0.79422256],\n",
       "       [0.05584396, 0.94415604],\n",
       "       [0.52846444, 0.47153556],\n",
       "       [0.11033029, 0.88966971],\n",
       "       [0.88668661, 0.11331339],\n",
       "       [0.91492826, 0.08507174],\n",
       "       [0.44536226, 0.55463774],\n",
       "       [0.07760533, 0.92239467],\n",
       "       [0.26245634, 0.73754366],\n",
       "       [0.50751072, 0.49248928],\n",
       "       [0.86336788, 0.13663212],\n",
       "       [0.22153388, 0.77846612],\n",
       "       [0.10688857, 0.89311143],\n",
       "       [0.89873858, 0.10126142],\n",
       "       [0.70433861, 0.29566139],\n",
       "       [0.77263412, 0.22736588],\n",
       "       [0.08913114, 0.91086886],\n",
       "       [0.09255586, 0.90744414],\n",
       "       [0.6109751 , 0.3890249 ],\n",
       "       [0.89879103, 0.10120897],\n",
       "       [0.84423334, 0.15576666],\n",
       "       [0.31254474, 0.68745526],\n",
       "       [0.72947036, 0.27052964],\n",
       "       [0.89873947, 0.10126053],\n",
       "       [0.89872154, 0.10127846],\n",
       "       [0.89872602, 0.10127398],\n",
       "       [0.65510319, 0.34489681],\n",
       "       [0.93154615, 0.06845385],\n",
       "       [0.25283173, 0.74716827],\n",
       "       [0.8964081 , 0.1035919 ],\n",
       "       [0.74552774, 0.25447226],\n",
       "       [0.91373772, 0.08626228],\n",
       "       [0.06913866, 0.93086134],\n",
       "       [0.91951152, 0.08048848],\n",
       "       [0.90428974, 0.09571026],\n",
       "       [0.89165452, 0.10834548],\n",
       "       [0.26626384, 0.73373616],\n",
       "       [0.653022  , 0.346978  ],\n",
       "       [0.90304524, 0.09695476],\n",
       "       [0.61421828, 0.38578172],\n",
       "       [0.08888577, 0.91111423],\n",
       "       [0.88028604, 0.11971396],\n",
       "       [0.08539577, 0.91460423],\n",
       "       [0.59145899, 0.40854101],\n",
       "       [0.48438326, 0.51561674],\n",
       "       [0.87862683, 0.12137317],\n",
       "       [0.77570434, 0.22429566],\n",
       "       [0.79934214, 0.20065786],\n",
       "       [0.18926889, 0.81073111],\n",
       "       [0.54721812, 0.45278188],\n",
       "       [0.74205873, 0.25794127],\n",
       "       [0.09488541, 0.90511459],\n",
       "       [0.18583356, 0.81416644],\n",
       "       [0.61730867, 0.38269133],\n",
       "       [0.89171448, 0.10828552],\n",
       "       [0.58528971, 0.41471029],\n",
       "       [0.14578312, 0.85421688],\n",
       "       [0.50136809, 0.49863191],\n",
       "       [0.4279384 , 0.5720616 ],\n",
       "       [0.88150679, 0.11849321],\n",
       "       [0.42984413, 0.57015587],\n",
       "       [0.89792764, 0.10207236],\n",
       "       [0.76783214, 0.23216786],\n",
       "       [0.29594807, 0.70405193],\n",
       "       [0.65945831, 0.34054169],\n",
       "       [0.35037758, 0.64962242],\n",
       "       [0.08340554, 0.91659446],\n",
       "       [0.90100177, 0.09899823],\n",
       "       [0.92661296, 0.07338704],\n",
       "       [0.36682824, 0.63317176],\n",
       "       [0.88145943, 0.11854057],\n",
       "       [0.28953638, 0.71046362],\n",
       "       [0.76508029, 0.23491971],\n",
       "       [0.80088412, 0.19911588],\n",
       "       [0.49229552, 0.50770448],\n",
       "       [0.23922151, 0.76077849],\n",
       "       [0.77400452, 0.22599548],\n",
       "       [0.89471956, 0.10528044],\n",
       "       [0.08023971, 0.91976029],\n",
       "       [0.92826645, 0.07173355],\n",
       "       [0.8986336 , 0.1013664 ],\n",
       "       [0.88923208, 0.11076792],\n",
       "       [0.87342519, 0.12657481],\n",
       "       [0.42513496, 0.57486504],\n",
       "       [0.89870494, 0.10129506],\n",
       "       [0.89881254, 0.10118746],\n",
       "       [0.89336907, 0.10663093],\n",
       "       [0.42987071, 0.57012929],\n",
       "       [0.2499386 , 0.7500614 ],\n",
       "       [0.45243233, 0.54756767],\n",
       "       [0.8880181 , 0.1119819 ],\n",
       "       [0.54199748, 0.45800252],\n",
       "       [0.81115439, 0.18884561],\n",
       "       [0.08603834, 0.91396166],\n",
       "       [0.89866098, 0.10133902],\n",
       "       [0.7422154 , 0.2577846 ],\n",
       "       [0.74228502, 0.25771498],\n",
       "       [0.08889894, 0.91110106],\n",
       "       [0.88412867, 0.11587133],\n",
       "       [0.91374471, 0.08625529],\n",
       "       [0.49976089, 0.50023911],\n",
       "       [0.17704494, 0.82295506],\n",
       "       [0.59143042, 0.40856958],\n",
       "       [0.31663199, 0.68336801],\n",
       "       [0.87070644, 0.12929356],\n",
       "       [0.89879372, 0.10120628],\n",
       "       [0.4853395 , 0.5146605 ],\n",
       "       [0.17383263, 0.82616737],\n",
       "       [0.2897029 , 0.7102971 ]])"
      ]
     },
     "execution_count": 44,
     "metadata": {},
     "output_type": "execute_result"
    }
   ],
   "source": [
    "model.predict_proba(X_test)"
   ]
  },
  {
   "cell_type": "code",
   "execution_count": 45,
   "id": "international-wound",
   "metadata": {},
   "outputs": [
    {
     "data": {
      "text/plain": [
       "0.8044692737430168"
      ]
     },
     "execution_count": 45,
     "metadata": {},
     "output_type": "execute_result"
    }
   ],
   "source": [
    "model.score(X_test,y_test)"
   ]
  },
  {
   "cell_type": "code",
   "execution_count": 46,
   "id": "billion-hamilton",
   "metadata": {},
   "outputs": [
    {
     "data": {
      "text/plain": [
       "array([[90, 15],\n",
       "       [20, 54]], dtype=int64)"
      ]
     },
     "execution_count": 46,
     "metadata": {},
     "output_type": "execute_result"
    }
   ],
   "source": [
    "y_predicted = model.predict(X_test)\n",
    "from sklearn.metrics import confusion_matrix\n",
    "cm = confusion_matrix(y_test, y_predicted)\n",
    "cm"
   ]
  },
  {
   "cell_type": "code",
   "execution_count": 47,
   "id": "closed-kruger",
   "metadata": {},
   "outputs": [
    {
     "data": {
      "text/plain": [
       "Text(69.0, 0.5, 'Truth')"
      ]
     },
     "execution_count": 47,
     "metadata": {},
     "output_type": "execute_result"
    },
    {
     "data": {
      "image/png": "[encoded data removed]",
      "text/plain": [
       "<Figure size 720x504 with 2 Axes>"
      ]
     },
     "metadata": {
      "needs_background": "light"
     },
     "output_type": "display_data"
    }
   ],
   "source": [
    "import seaborn as sn\n",
    "plt.figure(figsize = (10,7))\n",
    "sn.heatmap(cm, annot=True)\n",
    "plt.xlabel('Predicted')\n",
    "plt.ylabel('Truth')"
   ]
  },
  {
   "cell_type": "code",
   "execution_count": 48,
   "id": "charming-portal",
   "metadata": {},
   "outputs": [
    {
     "name": "stdout",
     "output_type": "stream",
     "text": [
      "Accuracy: 0.8044692737430168\n",
      "Precision: 0.782608695652174\n",
      "Recall: 0.7297297297297297\n"
     ]
    }
   ],
   "source": [
    "from sklearn import metrics\n",
    "print(\"Accuracy:\",metrics.accuracy_score(y_test, y_predicted))\n",
    "print(\"Precision:\",metrics.precision_score(y_test, y_predicted))\n",
    "print(\"Recall:\",metrics.recall_score(y_test, y_predicted))"
   ]
  },
  {
   "cell_type": "markdown",
   "id": "legislative-radiation",
   "metadata": {},
   "source": [
    "**f1_score**"
   ]
  },
  {
   "cell_type": "code",
   "execution_count": 49,
   "id": "electronic-pension",
   "metadata": {},
   "outputs": [],
   "source": [
    "def calculate_F1_score(x,y):\n",
    "    from sklearn import metrics as mt\n",
    "    return 2*mt.precision_score(x,y)*mt.recall_score(x,y)/(mt.precision_score(x,y)+mt.recall_score(x,y))"
   ]
  },
  {
   "cell_type": "code",
   "execution_count": 50,
   "id": "pleased-mumbai",
   "metadata": {},
   "outputs": [
    {
     "data": {
      "text/plain": [
       "0.7552447552447553"
      ]
     },
     "execution_count": 50,
     "metadata": {},
     "output_type": "execute_result"
    }
   ],
   "source": [
    "calculate_F1_score(y_test,y_predicted)"
   ]
  },
  {
   "cell_type": "code",
   "execution_count": 51,
   "id": "false-abraham",
   "metadata": {},
   "outputs": [
    {
     "data": {
      "text/plain": [
       "Index(['PassengerId', 'Pclass', 'Name', 'Sex', 'Age', 'SibSp', 'Parch',\n",
       "       'Ticket', 'Fare', 'Cabin', 'Embarked'],\n",
       "      dtype='object')"
      ]
     },
     "execution_count": 51,
     "metadata": {},
     "output_type": "execute_result"
    }
   ],
   "source": [
    "titanic_test.columns"
   ]
  },
  {
   "cell_type": "code",
   "execution_count": 52,
   "id": "related-pasta",
   "metadata": {},
   "outputs": [
    {
     "data": {
      "text/html": [
       "<div>\n",
       "<style scoped>\n",
       "    .dataframe tbody tr th:only-of-type {\n",
       "        vertical-align: middle;\n",
       "    }\n",
       "\n",
       "    .dataframe tbody tr th {\n",
       "        vertical-align: top;\n",
       "    }\n",
       "\n",
       "    .dataframe thead th {\n",
       "        text-align: right;\n",
       "    }\n",
       "</style>\n",
       "<table border=\"1\" class=\"dataframe\">\n",
       "  <thead>\n",
       "    <tr style=\"text-align: right;\">\n",
       "      <th></th>\n",
       "      <th>Age</th>\n",
       "      <th>Sex</th>\n",
       "      <th>Fare</th>\n",
       "      <th>Pclass</th>\n",
       "    </tr>\n",
       "  </thead>\n",
       "  <tbody>\n",
       "    <tr>\n",
       "      <th>0</th>\n",
       "      <td>5.0</td>\n",
       "      <td>male</td>\n",
       "      <td>7.8292</td>\n",
       "      <td>3</td>\n",
       "    </tr>\n",
       "    <tr>\n",
       "      <th>1</th>\n",
       "      <td>25.0</td>\n",
       "      <td>female</td>\n",
       "      <td>7.0000</td>\n",
       "      <td>3</td>\n",
       "    </tr>\n",
       "    <tr>\n",
       "      <th>2</th>\n",
       "      <td>23.0</td>\n",
       "      <td>male</td>\n",
       "      <td>9.6875</td>\n",
       "      <td>2</td>\n",
       "    </tr>\n",
       "    <tr>\n",
       "      <th>3</th>\n",
       "      <td>67.0</td>\n",
       "      <td>male</td>\n",
       "      <td>8.6625</td>\n",
       "      <td>3</td>\n",
       "    </tr>\n",
       "    <tr>\n",
       "      <th>4</th>\n",
       "      <td>22.0</td>\n",
       "      <td>female</td>\n",
       "      <td>12.2875</td>\n",
       "      <td>3</td>\n",
       "    </tr>\n",
       "    <tr>\n",
       "      <th>...</th>\n",
       "      <td>...</td>\n",
       "      <td>...</td>\n",
       "      <td>...</td>\n",
       "      <td>...</td>\n",
       "    </tr>\n",
       "    <tr>\n",
       "      <th>413</th>\n",
       "      <td>NaN</td>\n",
       "      <td>male</td>\n",
       "      <td>8.0500</td>\n",
       "      <td>3</td>\n",
       "    </tr>\n",
       "    <tr>\n",
       "      <th>414</th>\n",
       "      <td>39.0</td>\n",
       "      <td>female</td>\n",
       "      <td>108.9000</td>\n",
       "      <td>1</td>\n",
       "    </tr>\n",
       "    <tr>\n",
       "      <th>415</th>\n",
       "      <td>38.5</td>\n",
       "      <td>male</td>\n",
       "      <td>7.2500</td>\n",
       "      <td>3</td>\n",
       "    </tr>\n",
       "    <tr>\n",
       "      <th>416</th>\n",
       "      <td>NaN</td>\n",
       "      <td>male</td>\n",
       "      <td>8.0500</td>\n",
       "      <td>3</td>\n",
       "    </tr>\n",
       "    <tr>\n",
       "      <th>417</th>\n",
       "      <td>NaN</td>\n",
       "      <td>male</td>\n",
       "      <td>22.3583</td>\n",
       "      <td>3</td>\n",
       "    </tr>\n",
       "  </tbody>\n",
       "</table>\n",
       "<p>418 rows × 4 columns</p>\n",
       "</div>"
      ],
      "text/plain": [
       "      Age     Sex      Fare  Pclass\n",
       "0     5.0    male    7.8292       3\n",
       "1    25.0  female    7.0000       3\n",
       "2    23.0    male    9.6875       2\n",
       "3    67.0    male    8.6625       3\n",
       "4    22.0  female   12.2875       3\n",
       "..    ...     ...       ...     ...\n",
       "413   NaN    male    8.0500       3\n",
       "414  39.0  female  108.9000       1\n",
       "415  38.5    male    7.2500       3\n",
       "416   NaN    male    8.0500       3\n",
       "417   NaN    male   22.3583       3\n",
       "\n",
       "[418 rows x 4 columns]"
      ]
     },
     "execution_count": 52,
     "metadata": {},
     "output_type": "execute_result"
    }
   ],
   "source": [
    "titanic_test2=titanic_test[['Age','Sex','Fare','Pclass']]\n",
    "titanic_test2"
   ]
  },
  {
   "cell_type": "code",
   "execution_count": 53,
   "id": "competent-transcript",
   "metadata": {},
   "outputs": [
    {
     "data": {
      "text/plain": [
       "Age       85\n",
       "Sex        0\n",
       "Fare       1\n",
       "Pclass     0\n",
       "dtype: int64"
      ]
     },
     "execution_count": 53,
     "metadata": {},
     "output_type": "execute_result"
    }
   ],
   "source": [
    "titanic_test2.isnull().sum()"
   ]
  },
  {
   "cell_type": "code",
   "execution_count": 54,
   "id": "adjustable-blood",
   "metadata": {},
   "outputs": [
    {
     "name": "stderr",
     "output_type": "stream",
     "text": [
      "<ipython-input-54-f81cc89c9fc1>:1: SettingWithCopyWarning: \n",
      "A value is trying to be set on a copy of a slice from a DataFrame.\n",
      "Try using .loc[row_indexer,col_indexer] = value instead\n",
      "\n",
      "See the caveats in the documentation: https://pandas.pydata.org/pandas-docs/stable/user_guide/indexing.html#returning-a-view-versus-a-copy\n",
      "  titanic_test2['Age']=titanic_test2['Age'].fillna(titanic_test2['Age'].median())\n"
     ]
    },
    {
     "data": {
      "text/plain": [
       "0       5.0\n",
       "1      25.0\n",
       "2      23.0\n",
       "3      67.0\n",
       "4      22.0\n",
       "       ... \n",
       "413    27.0\n",
       "414    39.0\n",
       "415    38.5\n",
       "416    27.0\n",
       "417    27.0\n",
       "Name: Age, Length: 418, dtype: float64"
      ]
     },
     "execution_count": 54,
     "metadata": {},
     "output_type": "execute_result"
    }
   ],
   "source": [
    "titanic_test2['Age']=titanic_test2['Age'].fillna(titanic_test2['Age'].median())\n",
    "titanic_test2['Age']"
   ]
  },
  {
   "cell_type": "code",
   "execution_count": 55,
   "id": "automotive-contemporary",
   "metadata": {},
   "outputs": [
    {
     "name": "stderr",
     "output_type": "stream",
     "text": [
      "<ipython-input-55-1f1d269f3941>:1: SettingWithCopyWarning: \n",
      "A value is trying to be set on a copy of a slice from a DataFrame.\n",
      "Try using .loc[row_indexer,col_indexer] = value instead\n",
      "\n",
      "See the caveats in the documentation: https://pandas.pydata.org/pandas-docs/stable/user_guide/indexing.html#returning-a-view-versus-a-copy\n",
      "  titanic_test2['Fare']=titanic_test2['Fare'].fillna(0)\n"
     ]
    },
    {
     "data": {
      "text/plain": [
       "0        7.8292\n",
       "1        7.0000\n",
       "2        9.6875\n",
       "3        8.6625\n",
       "4       12.2875\n",
       "         ...   \n",
       "413      8.0500\n",
       "414    108.9000\n",
       "415      7.2500\n",
       "416      8.0500\n",
       "417     22.3583\n",
       "Name: Fare, Length: 418, dtype: float64"
      ]
     },
     "execution_count": 55,
     "metadata": {},
     "output_type": "execute_result"
    }
   ],
   "source": [
    "titanic_test2['Fare']=titanic_test2['Fare'].fillna(0)\n",
    "titanic_test2['Fare']"
   ]
  },
  {
   "cell_type": "code",
   "execution_count": 56,
   "id": "operational-threat",
   "metadata": {},
   "outputs": [
    {
     "data": {
      "text/plain": [
       "Age       0\n",
       "Sex       0\n",
       "Fare      0\n",
       "Pclass    0\n",
       "dtype: int64"
      ]
     },
     "execution_count": 56,
     "metadata": {},
     "output_type": "execute_result"
    }
   ],
   "source": [
    "titanic_test2.isnull().sum()"
   ]
  },
  {
   "cell_type": "code",
   "execution_count": 57,
   "id": "coral-psychiatry",
   "metadata": {},
   "outputs": [
    {
     "name": "stderr",
     "output_type": "stream",
     "text": [
      "<ipython-input-57-9c344483a3c0>:1: SettingWithCopyWarning: \n",
      "A value is trying to be set on a copy of a slice from a DataFrame.\n",
      "Try using .loc[row_indexer,col_indexer] = value instead\n",
      "\n",
      "See the caveats in the documentation: https://pandas.pydata.org/pandas-docs/stable/user_guide/indexing.html#returning-a-view-versus-a-copy\n",
      "  titanic_test2['Sex']=(titanic_test2['Sex']=='male').astype(int)\n"
     ]
    }
   ],
   "source": [
    "titanic_test2['Sex']=(titanic_test2['Sex']=='male').astype(int)"
   ]
  },
  {
   "cell_type": "code",
   "execution_count": 59,
   "id": "completed-professional",
   "metadata": {},
   "outputs": [
    {
     "data": {
      "text/plain": [
       "array([0, 1, 0, 0, 1, 0, 1, 0, 1, 0, 0, 0, 1, 0, 1, 1, 0, 0, 1, 0, 0, 0,\n",
       "       1, 1, 1, 0, 1, 0, 0, 0, 0, 0, 1, 1, 0, 0, 1, 1, 0, 0, 0, 0, 0, 1,\n",
       "       1, 0, 0, 0, 1, 1, 0, 0, 1, 1, 0, 0, 0, 0, 0, 1, 0, 0, 0, 1, 1, 1,\n",
       "       1, 0, 0, 1, 1, 0, 1, 0, 1, 0, 0, 1, 0, 1, 0, 0, 0, 0, 0, 0, 1, 1,\n",
       "       1, 0, 1, 0, 1, 0, 0, 0, 1, 0, 1, 0, 1, 0, 0, 0, 1, 0, 0, 0, 0, 0,\n",
       "       0, 1, 1, 1, 1, 0, 0, 1, 0, 1, 1, 0, 1, 0, 0, 1, 0, 1, 0, 0, 0, 0,\n",
       "       1, 0, 0, 0, 0, 0, 1, 0, 1, 1, 0, 0, 0, 0, 0, 0, 0, 0, 1, 0, 0, 1,\n",
       "       0, 0, 1, 1, 0, 1, 1, 0, 1, 0, 0, 1, 0, 0, 1, 1, 0, 0, 0, 0, 0, 1,\n",
       "       1, 0, 1, 1, 0, 0, 1, 0, 1, 0, 1, 0, 1, 0, 0, 0, 0, 0, 0, 0, 1, 1,\n",
       "       0, 1, 1, 0, 0, 1, 0, 0, 1, 0, 1, 0, 0, 0, 0, 1, 1, 0, 1, 0, 1, 0,\n",
       "       1, 0, 1, 0, 1, 1, 0, 1, 0, 0, 0, 1, 0, 0, 0, 0, 0, 0, 1, 1, 1, 1,\n",
       "       0, 0, 0, 0, 1, 0, 1, 1, 1, 0, 0, 0, 0, 0, 0, 0, 1, 0, 0, 0, 1, 1,\n",
       "       0, 0, 0, 0, 1, 0, 0, 0, 1, 1, 0, 1, 0, 0, 0, 0, 1, 0, 1, 1, 1, 0,\n",
       "       0, 0, 0, 0, 0, 1, 0, 0, 0, 0, 1, 0, 0, 0, 0, 0, 0, 0, 1, 1, 0, 0,\n",
       "       0, 0, 0, 0, 0, 1, 1, 1, 0, 0, 0, 0, 0, 0, 0, 0, 1, 0, 1, 0, 0, 0,\n",
       "       1, 0, 0, 1, 0, 0, 0, 0, 0, 0, 0, 0, 0, 1, 0, 1, 0, 1, 0, 1, 1, 0,\n",
       "       0, 0, 1, 0, 1, 0, 0, 1, 0, 1, 1, 0, 1, 1, 0, 1, 1, 0, 0, 1, 0, 0,\n",
       "       1, 1, 1, 0, 0, 0, 0, 0, 1, 1, 0, 1, 0, 0, 0, 0, 1, 1, 0, 0, 0, 1,\n",
       "       0, 1, 0, 0, 1, 0, 1, 1, 0, 0, 0, 0, 1, 1, 1, 1, 1, 0, 1, 0, 0, 0],\n",
       "      dtype=int64)"
      ]
     },
     "execution_count": 59,
     "metadata": {},
     "output_type": "execute_result"
    }
   ],
   "source": [
    "pred=model.predict(titanic_test2)\n",
    "pred"
   ]
  },
  {
   "cell_type": "code",
   "execution_count": 60,
   "id": "expected-opportunity",
   "metadata": {},
   "outputs": [
    {
     "data": {
      "text/plain": [
       "418"
      ]
     },
     "execution_count": 60,
     "metadata": {},
     "output_type": "execute_result"
    }
   ],
   "source": [
    "len(pred)"
   ]
  },
  {
   "cell_type": "code",
   "execution_count": 64,
   "id": "administrative-ballet",
   "metadata": {},
   "outputs": [
    {
     "data": {
      "text/plain": [
       "0       892\n",
       "1       893\n",
       "2       894\n",
       "3       895\n",
       "4       896\n",
       "       ... \n",
       "413    1305\n",
       "414    1306\n",
       "415    1307\n",
       "416    1308\n",
       "417    1309\n",
       "Name: PassengerId, Length: 418, dtype: int64"
      ]
     },
     "execution_count": 64,
     "metadata": {},
     "output_type": "execute_result"
    }
   ],
   "source": [
    "titanic_test['PassengerId']"
   ]
  },
  {
   "cell_type": "code",
   "execution_count": 75,
   "id": "single-mother",
   "metadata": {},
   "outputs": [],
   "source": [
    "submission_data=pd.DataFrame(list(zip(titanic_test['PassengerId'],pred)),columns =['PassengerId','Survived']) "
   ]
  },
  {
   "cell_type": "code",
   "execution_count": 76,
   "id": "alike-flight",
   "metadata": {},
   "outputs": [
    {
     "data": {
      "text/html": [
       "<div>\n",
       "<style scoped>\n",
       "    .dataframe tbody tr th:only-of-type {\n",
       "        vertical-align: middle;\n",
       "    }\n",
       "\n",
       "    .dataframe tbody tr th {\n",
       "        vertical-align: top;\n",
       "    }\n",
       "\n",
       "    .dataframe thead th {\n",
       "        text-align: right;\n",
       "    }\n",
       "</style>\n",
       "<table border=\"1\" class=\"dataframe\">\n",
       "  <thead>\n",
       "    <tr style=\"text-align: right;\">\n",
       "      <th></th>\n",
       "      <th>PassengerId</th>\n",
       "      <th>Survived</th>\n",
       "    </tr>\n",
       "  </thead>\n",
       "  <tbody>\n",
       "    <tr>\n",
       "      <th>0</th>\n",
       "      <td>892</td>\n",
       "      <td>0</td>\n",
       "    </tr>\n",
       "    <tr>\n",
       "      <th>1</th>\n",
       "      <td>893</td>\n",
       "      <td>1</td>\n",
       "    </tr>\n",
       "    <tr>\n",
       "      <th>2</th>\n",
       "      <td>894</td>\n",
       "      <td>0</td>\n",
       "    </tr>\n",
       "    <tr>\n",
       "      <th>3</th>\n",
       "      <td>895</td>\n",
       "      <td>0</td>\n",
       "    </tr>\n",
       "    <tr>\n",
       "      <th>4</th>\n",
       "      <td>896</td>\n",
       "      <td>1</td>\n",
       "    </tr>\n",
       "    <tr>\n",
       "      <th>...</th>\n",
       "      <td>...</td>\n",
       "      <td>...</td>\n",
       "    </tr>\n",
       "    <tr>\n",
       "      <th>413</th>\n",
       "      <td>1305</td>\n",
       "      <td>0</td>\n",
       "    </tr>\n",
       "    <tr>\n",
       "      <th>414</th>\n",
       "      <td>1306</td>\n",
       "      <td>1</td>\n",
       "    </tr>\n",
       "    <tr>\n",
       "      <th>415</th>\n",
       "      <td>1307</td>\n",
       "      <td>0</td>\n",
       "    </tr>\n",
       "    <tr>\n",
       "      <th>416</th>\n",
       "      <td>1308</td>\n",
       "      <td>0</td>\n",
       "    </tr>\n",
       "    <tr>\n",
       "      <th>417</th>\n",
       "      <td>1309</td>\n",
       "      <td>0</td>\n",
       "    </tr>\n",
       "  </tbody>\n",
       "</table>\n",
       "<p>418 rows × 2 columns</p>\n",
       "</div>"
      ],
      "text/plain": [
       "     PassengerId  Survived\n",
       "0            892         0\n",
       "1            893         1\n",
       "2            894         0\n",
       "3            895         0\n",
       "4            896         1\n",
       "..           ...       ...\n",
       "413         1305         0\n",
       "414         1306         1\n",
       "415         1307         0\n",
       "416         1308         0\n",
       "417         1309         0\n",
       "\n",
       "[418 rows x 2 columns]"
      ]
     },
     "execution_count": 76,
     "metadata": {},
     "output_type": "execute_result"
    }
   ],
   "source": [
    "submission_data"
   ]
  },
  {
   "cell_type": "code",
   "execution_count": 77,
   "id": "informational-airfare",
   "metadata": {},
   "outputs": [],
   "source": [
    "submission_data.to_csv(\"submission.csv\", index=False)"
   ]
  },
  {
   "cell_type": "code",
   "execution_count": null,
   "id": "bottom-finance",
   "metadata": {},
   "outputs": [],
   "source": []
  }
 ],
 "metadata": {
  "kernelspec": {
   "display_name": "Python 3",
   "language": "python",
   "name": "python3"
  },
  "language_info": {
   "codemirror_mode": {
    "name": "ipython",
    "version": 3
   },
   "file_extension": ".py",
   "mimetype": "text/x-python",
   "name": "python",
   "nbconvert_exporter": "python",
   "pygments_lexer": "ipython3",
   "version": "3.9.1"
  }
 },
 "nbformat": 4,
 "nbformat_minor": 5
}
